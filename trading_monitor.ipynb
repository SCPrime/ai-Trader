{
 "cells": [
  {
   "cell_type": "markdown",
   "metadata": {},
   "source": ["# Live Trading Bot Monitor"]
  },
  {
   "cell_type": "code",
   "execution_count": null,
   "metadata": {},
   "outputs": [],
   "source": [
    "import requests\n",
    "import pandas as pd\n",
    "from IPython.display import display, HTML, clear_output\n",
    "import time\n",
    "\n",
    "def check_bot_status():\n",
    "    try:\n",
    "        r = requests.get('http://localhost:8000/health')\n",
    "        return r.json()\n",
    "    except:\n",
    "        return {'status': 'offline'}\n",
    "\n",
    "def show_dashboard():\n",
    "    clear_output(wait=True)\n",
    "    status = check_bot_status()\n",
    "    \n",
    "    html = f'''\n",
    "    <div style=\"background: #1e1e1e; padding: 20px; border-radius: 10px;\">\n",
    "        <h2 style=\"color: #4ec9b0;\">Trading Bot Status</h2>\n",
    "        <p style=\"color: #ce9178;\">Status: {status.get('status', 'Unknown')}</p>\n",
    "        <p style=\"color: #ce9178;\">Mode: Paper Trading</p>\n",
    "        <p style=\"color: #dcdcaa;\">Dashboard: <a href=\"http://localhost:8000\" style=\"color: #569cd6;\">http://localhost:8000</a></p>\n",
    "    </div>\n",
    "    '''\n",
    "    display(HTML(html))\n",
    "\n",
    "# Auto-refresh every 5 seconds\n",
    "while True:\n",
    "    show_dashboard()\n",
    "    time.sleep(5)"
   ]
  }
 ],
 "metadata": {
  "kernelspec": {
   "display_name": "Python 3",
   "language": "python",
   "name": "python3"
  },
  "language_info": {
   "codemirror_mode": {
    "name": "ipython",
    "version": 3
   },
   "file_extension": ".py",
   "mimetype": "text/x-python",
   "name": "python",
   "nbconvert_exporter": "python",
   "pygments_lexer": "ipython3",
   "version": "3.12.0"
  }
 },
 "nbformat": 4,
 "nbformat_minor": 4
}